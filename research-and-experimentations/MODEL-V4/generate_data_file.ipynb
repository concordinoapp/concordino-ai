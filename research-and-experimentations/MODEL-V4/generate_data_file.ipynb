{
 "cells": [
  {
   "cell_type": "code",
   "execution_count": 4,
   "metadata": {},
   "outputs": [],
   "source": [
    "import os\n",
    "from tqdm import tqdm\n"
   ]
  },
  {
   "cell_type": "code",
   "execution_count": 5,
   "metadata": {},
   "outputs": [
    {
     "name": "stderr",
     "output_type": "stream",
     "text": [
      "100%|██████████| 13/13 [00:00<?, ?it/s]\n",
      "100%|██████████| 8919273/8919273 [00:34<00:00, 257075.02it/s]\n"
     ]
    }
   ],
   "source": [
    "def generate_data_file(\n",
    "        data_file_dir,\n",
    "        multi_fonts_dir,\n",
    "        mjsynth_dir\n",
    "):\n",
    "    data_file = open(os.path.join(data_file_dir, \"data.txt\"), \"a+\")\n",
    "    multi_fonts_data = open(os.path.join(multi_fonts_dir, 'data.txt')).readlines()\n",
    "    mjsynth_data = open(os.path.join(mjsynth_dir, \"imlist.txt\")).readlines()\n",
    "    for line in tqdm(multi_fonts_data):\n",
    "        splitted_line = line.split(' ', 1)\n",
    "        label = splitted_line[1].split('\\n')[0]\n",
    "        data_file.write(f\"{os.path.join(multi_fonts_dir, splitted_line[0])} {label}\\n\")\n",
    "    for image_name in tqdm(mjsynth_data):\n",
    "        image_name = image_name.split('\\n')[0]\n",
    "        label = image_name.split('/')[-1].split('_')[1]\n",
    "        data_file.write(f\"{os.path.join(mjsynth_dir, image_name)} {label}\\n\")\n",
    "generate_data_file(\"./\", \"../../datasets/multi-fonts-generated-text/\", \"../../datasets/mjsynth/mnt/ramdisk/max/90kDICT32px/\")"
   ]
  },
  {
   "cell_type": "code",
   "execution_count": null,
   "metadata": {},
   "outputs": [],
   "source": []
  }
 ],
 "metadata": {
  "kernelspec": {
   "display_name": "base",
   "language": "python",
   "name": "python3"
  },
  "language_info": {
   "codemirror_mode": {
    "name": "ipython",
    "version": 3
   },
   "file_extension": ".py",
   "mimetype": "text/x-python",
   "name": "python",
   "nbconvert_exporter": "python",
   "pygments_lexer": "ipython3",
   "version": "3.9.13"
  },
  "orig_nbformat": 4
 },
 "nbformat": 4,
 "nbformat_minor": 2
}
