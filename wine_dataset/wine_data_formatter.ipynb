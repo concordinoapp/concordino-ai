{
 "cells": [
  {
   "cell_type": "code",
   "execution_count": 5,
   "metadata": {},
   "outputs": [
    {
     "name": "stdout",
     "output_type": "stream",
     "text": [
      "ERROR WITH WINE NB 47239 : Poliziano 2012  Vino Nobile di Montepulciano\n",
      "ERROR WITH WINE NB 72887 : Graf Hardegg 2015 Steinbügel Riesling (Niederösterreich)\n",
      "ERROR WITH WINE NB 74149 : Fiddletown Cellars 2011 Private Stock Red (Amador County)\n",
      "ERROR WITH WINE NB 82286 : Mandolin 2012 Chardonnay (Monterey)\n",
      "ERROR WITH WINE NB 82287 : Our Daily Red 2012 Red (California)\n",
      "ERROR WITH WINE NB 82288 : Piantate Lunghe 2011  Rosso Conero\n",
      "ERROR WITH WINE NB 82289 : Ascension Cellars 2010 Ethereal Cabernet Sauvignon (Paso Robles)\n",
      "ERROR WITH WINE NB 82290 : Bründlmayer 2011 Reserve Zweigelt (Niederösterreich)\n",
      "ERROR WITH WINE NB 82291 : Candor NV Merlot (California)\n",
      "ERROR WITH WINE NB 82292 : Château Los Boldos 2011 Vieilles Vignes Cabernet Sauvignon (Rapel Valley)\n",
      "ERROR WITH WINE NB 98331 : Rutherford Hill 2010 Chardonnay (Carneros)\n",
      "ERROR WITH WINE NB 126305 : Domaine Charles Baur 2015 Secret de notre Terroir Chard'MMXV Chardonnay (Alsace)\n"
     ]
    }
   ],
   "source": [
    "import json\n",
    "import urllib.request\n",
    "import os\n",
    "\n",
    "wines = json.load(open(\"./vin_db.json\"))\n",
    "\n",
    "for i in range(len(wines)):\n",
    "    try:\n",
    "        os.makedirs(f'./data/{i}', exist_ok=True)\n",
    "        urllib.request.urlretrieve(wines[i]['poster'], f'./data/{i}/image.png')\n",
    "        text_file = open(f'./data/{i}/name.txt', 'w+')\n",
    "        text_file.write(wines[i]['title'])\n",
    "        text_file.close()\n",
    "    except:\n",
    "        print(f\"ERROR WITH WINE NB {i} : {wines[i]['title']}\")\n"
   ]
  },
  {
   "cell_type": "code",
   "execution_count": null,
   "metadata": {},
   "outputs": [],
   "source": []
  }
 ],
 "metadata": {
  "kernelspec": {
   "display_name": "base",
   "language": "python",
   "name": "python3"
  },
  "language_info": {
   "codemirror_mode": {
    "name": "ipython",
    "version": 3
   },
   "file_extension": ".py",
   "mimetype": "text/x-python",
   "name": "python",
   "nbconvert_exporter": "python",
   "pygments_lexer": "ipython3",
   "version": "3.9.13"
  },
  "orig_nbformat": 4,
  "vscode": {
   "interpreter": {
    "hash": "f6a5e76a99c0511a31decff2f843de6b15227c9a58b9fb2d2d9b4eba74a67e12"
   }
  }
 },
 "nbformat": 4,
 "nbformat_minor": 2
}
