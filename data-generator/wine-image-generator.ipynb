{
 "cells": [
  {
   "cell_type": "code",
   "execution_count": 72,
   "metadata": {},
   "outputs": [],
   "source": [
    "import cv2\n",
    "from PIL import Image\n",
    "from PIL import ImageDraw\n",
    "from PIL import ImageFont\n",
    "import numpy as np\n",
    "import json\n",
    "import random\n",
    "import os\n",
    "import re\n",
    "import unicodedata\n"
   ]
  },
  {
   "cell_type": "code",
   "execution_count": 88,
   "metadata": {},
   "outputs": [
    {
     "name": "stdout",
     "output_type": "stream",
     "text": [
      "[' ', '!', '\"', '#', '%', '&', \"'\", '(', ')', '*', '+', ',', '-', '.', '/', '0', '1', '2', '3', '4', '5', '6', '7', '8', '9', ':', ';', '=', '?', '@', 'A', 'B', 'C', 'D', 'E', 'F', 'G', 'H', 'I', 'J', 'K', 'L', 'M', 'N', 'O', 'P', 'Q', 'R', 'S', 'T', 'U', 'V', 'W', 'X', 'Y', 'Z', '[', ']', 'a', 'b', 'c', 'd', 'e', 'f', 'g', 'h', 'i', 'j', 'k', 'l', 'm', 'n', 'o', 'p', 'q', 'r', 's', 't', 'u', 'v', 'w', 'x', 'y', 'z']\n",
      "84\n",
      "85000\n"
     ]
    }
   ],
   "source": [
    "# Load JSON\n",
    "\n",
    "\n",
    "def generate_labels(\n",
    "    n_key_map={\n",
    "        \"date\": 3_000,\n",
    "        \"designation\": 65_000,\n",
    "        \"variety\": 2_000,\n",
    "        \"region\": 2_000,\n",
    "        \"province\": 3_000,\n",
    "        \"country\": 2_000,\n",
    "        \"winery\": 8_000\n",
    "    }       \n",
    "):\n",
    "    wine_data = json.load(open(\"./assets/vin_db.json\", encoding=\"utf-8\"))\n",
    "    key_list = [\"title\", \"designation\", \"variety\", \"region_1\", \"province\", \"country\", \"winery\"]\n",
    "    wine_data = [{k:d[k] for k in key_list} for d in wine_data]\n",
    "    for wine in wine_data: \n",
    "        wine[\"title\"] = re.sub(\"[^0-9]\", \"\", wine[\"title\"]) # Remove non alpha numeric characters, we only want the dates\n",
    "        wine[\"date\"] = wine.pop(\"title\") # Rename key\n",
    "        wine[\"region\"] = wine.pop(\"region_1\") # Rename key\n",
    "    labels = {}\n",
    "    for key in wine_data[0].keys():\n",
    "        labels[key] = list(filter(None, [wine[key] for wine in wine_data] )) # Remove all None values\n",
    "        labels[key] = list(map(lambda x: unicodedata.normalize(\"NFKD\", re.sub(r'[^\\x00-\\x7F]', '', x).replace(\"\\r\\n\", '').replace('\\xad', '')), labels[key])) # Remove all \\r and \\n\n",
    "        random.shuffle(labels[key]) # Shuffle\n",
    "    for i in range(len(labels[\"designation\"])): # split by 3 spaces and add remaning data at the end\n",
    "        splitted_designtation = labels[\"designation\"][i].split(' ')\n",
    "        part1 = ' '.join(splitted_designtation[:3])\n",
    "        part2 = ' '.join(splitted_designtation[3:])\n",
    "        labels[\"designation\"][i] = part1\n",
    "        if type(part2) == str and len(part2) > 0:\n",
    "            labels[\"designation\"].append(part2)\n",
    "    random.shuffle(labels[\"designation\"]) # Shuffle again\n",
    "    res_labels = []\n",
    "    for key in n_key_map.keys(): # Cut to wanted length\n",
    "        res_labels = res_labels + labels[key][:n_key_map[key]]\n",
    "    return res_labels\n",
    "\n",
    "def generate_images(labels, path):\n",
    "    return\n",
    "\n",
    "\n",
    "# for i in range(len(labels)):\n",
    "#     print(f\"{i+1}----{labels[i]}\")\n",
    "\n",
    "\n",
    "# labels = []\n",
    "# for data in wine_data:\n",
    "#     for key in data.keys():\n",
    "#         if type(data[key]) == str and len(data[key]) > 0:\n",
    "#             labels.append(data[key])\n",
    "# print(type(labels))\n",
    "# characetrs = sorted(list(set(char for label in labels for char in label)))\n",
    "# print(len(characetrs))\n",
    "# print(characetrs)\n",
    "# font_files = os.listdir(\"./assets/fonts/\")\n",
    "\n",
    "\n",
    "# # Load image\n",
    "# image = Image.new(\n",
    "#     'RGB',\n",
    "#     (150, 25),\n",
    "#     (random.randint(175, 255), random.randint(175, 255), random.randint(175, 255))\n",
    "# )\n",
    "# draw = ImageDraw.Draw(image)\n",
    "\n",
    "# # Load font\n",
    "# font_size = 20\n",
    "# font = ImageFont.truetype(\"./assets/fonts/\" + random.choice(font_files), font_size)\n",
    "# print(len(wine_data))\n",
    "# # Draw text on image\n",
    "# text = random.choice(wine_data)[\"title\"]\n",
    "# draw.text((150, 25), str(text), font=font, fill=(random.randint(0, 0), random.randint(0, 0), random.randint(0, 0)))\n",
    "\n",
    "# # Convert to image OpenCV\n",
    "# image = cv2.cvtColor(np.array(image), cv2.COLOR_RGB2RGBA)\n",
    "\n",
    "# # Save image on disk\n",
    "# image = Image.fromarray(image)\n",
    "# image.show()\n",
    "# # image.save(f\"./OUTPUT{i}.png\")"
   ]
  },
  {
   "cell_type": "code",
   "execution_count": 3,
   "metadata": {},
   "outputs": [
    {
     "name": "stdout",
     "output_type": "stream",
     "text": [
      "(0, 0, 3456, 4608)\n",
      "(0, 0, 3456, 4060)\n"
     ]
    },
    {
     "ename": "",
     "evalue": "",
     "output_type": "error",
     "traceback": [
      "\u001b[1;31mThe Kernel crashed while executing code in the the current cell or a previous cell. Please review the code in the cell(s) to identify a possible cause of the failure. Click <a href='https://aka.ms/vscodeJupyterKernelCrash'>here</a> for more info. View Jupyter <a href='command:jupyter.viewOutput'>log</a> for further details."
     ]
    }
   ],
   "source": [
    "\n",
    "\n",
    "\n",
    "\n",
    "    # cv2.rectangle(img, (x, y), (x + w, y + h), (0, 255, 0), 2)"
   ]
  },
  {
   "cell_type": "code",
   "execution_count": null,
   "metadata": {},
   "outputs": [
    {
     "name": "stdout",
     "output_type": "stream",
     "text": [
      "(0, 0, 3456, 4608)\n",
      "(0, 0, 3456, 4060)\n"
     ]
    },
    {
     "ename": "",
     "evalue": "",
     "output_type": "error",
     "traceback": [
      "\u001b[1;31mThe Kernel crashed while executing code in the the current cell or a previous cell. Please review the code in the cell(s) to identify a possible cause of the failure. Click <a href='https://aka.ms/vscodeJupyterKernelCrash'>here</a> for more info. View Jupyter <a href='command:jupyter.viewOutput'>log</a> for further details."
     ]
    }
   ],
   "source": [
    "\n",
    "\n",
    "\n",
    "\n",
    "    # cv2.rectangle(img, (x, y), (x + w, y + h), (0, 255, 0), 2)"
   ]
  },
  {
   "cell_type": "code",
   "execution_count": null,
   "metadata": {},
   "outputs": [],
   "source": []
  }
 ],
 "metadata": {
  "kernelspec": {
   "display_name": "Python 3",
   "language": "python",
   "name": "python3"
  },
  "language_info": {
   "codemirror_mode": {
    "name": "ipython",
    "version": 3
   },
   "file_extension": ".py",
   "mimetype": "text/x-python",
   "name": "python",
   "nbconvert_exporter": "python",
   "pygments_lexer": "ipython3",
   "version": "3.9.13"
  },
  "orig_nbformat": 4
 },
 "nbformat": 4,
 "nbformat_minor": 2
}
