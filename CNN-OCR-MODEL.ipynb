{
 "cells": [
  {
   "cell_type": "code",
   "execution_count": 1,
   "metadata": {},
   "outputs": [],
   "source": [
    "import os\n",
    "os.environ['TF_CPP_MIN_LOG_LEVEL'] = '3'\n",
    "import numpy as np\n",
    "import matplotlib.pyplot as plt\n",
    "from pathlib import Path\n",
    "\n",
    "import tensorflow as tf\n",
    "from tensorflow import keras\n",
    "from tensorflow.keras import layers\n",
    "\n"
   ]
  },
  {
   "attachments": {},
   "cell_type": "markdown",
   "metadata": {},
   "source": [
    "## Load data"
   ]
  },
  {
   "attachments": {},
   "cell_type": "markdown",
   "metadata": {},
   "source": [
    "##### Load IAM-Handwritten-Database words"
   ]
  },
  {
   "cell_type": "code",
   "execution_count": 2,
   "metadata": {},
   "outputs": [
    {
     "ename": "NameError",
     "evalue": "name 'np' is not defined",
     "output_type": "error",
     "traceback": [
      "\u001b[0;31m---------------------------------------------------------------------------\u001b[0m",
      "\u001b[0;31mNameError\u001b[0m                                 Traceback (most recent call last)",
      "\u001b[0;32m/tmp/ipykernel_8599/3364781424.py\u001b[0m in \u001b[0;36m<module>\u001b[0;34m\u001b[0m\n\u001b[0;32m----> 1\u001b[0;31m \u001b[0mimages_path\u001b[0m \u001b[0;34m=\u001b[0m \u001b[0mnp\u001b[0m\u001b[0;34m.\u001b[0m\u001b[0marray\u001b[0m\u001b[0;34m(\u001b[0m\u001b[0;34m[\u001b[0m\u001b[0;34m]\u001b[0m\u001b[0;34m)\u001b[0m\u001b[0;34m\u001b[0m\u001b[0;34m\u001b[0m\u001b[0m\n\u001b[0m\u001b[1;32m      2\u001b[0m \u001b[0;34m\u001b[0m\u001b[0m\n\u001b[1;32m      3\u001b[0m \u001b[0;31m# Define root folder for IAM database\u001b[0m\u001b[0;34m\u001b[0m\u001b[0;34m\u001b[0m\u001b[0m\n\u001b[1;32m      4\u001b[0m \u001b[0miam_words_root\u001b[0m \u001b[0;34m=\u001b[0m \u001b[0;34m'./data/IAM-Handwritten-Database/words/'\u001b[0m\u001b[0;34m\u001b[0m\u001b[0;34m\u001b[0m\u001b[0m\n\u001b[1;32m      5\u001b[0m \u001b[0msub_directories\u001b[0m \u001b[0;34m=\u001b[0m \u001b[0msorted\u001b[0m\u001b[0;34m(\u001b[0m\u001b[0mlist\u001b[0m\u001b[0;34m(\u001b[0m\u001b[0mmap\u001b[0m\u001b[0;34m(\u001b[0m \u001b[0;32mlambda\u001b[0m \u001b[0msub_directory\u001b[0m\u001b[0;34m:\u001b[0m \u001b[0miam_words_root\u001b[0m \u001b[0;34m+\u001b[0m \u001b[0msub_directory\u001b[0m\u001b[0;34m,\u001b[0m \u001b[0mos\u001b[0m\u001b[0;34m.\u001b[0m\u001b[0mlistdir\u001b[0m\u001b[0;34m(\u001b[0m\u001b[0miam_words_root\u001b[0m\u001b[0;34m)\u001b[0m\u001b[0;34m)\u001b[0m\u001b[0;34m)\u001b[0m\u001b[0;34m)\u001b[0m\u001b[0;34m\u001b[0m\u001b[0;34m\u001b[0m\u001b[0m\n",
      "\u001b[0;31mNameError\u001b[0m: name 'np' is not defined"
     ]
    }
   ],
   "source": [
    "images_path = np.array([])\n",
    "\n",
    "# Define root folder for IAM database\n",
    "iam_words_root = './data/IAM-Handwritten-Database/words/'\n",
    "sub_directories = sorted(list(map( lambda sub_directory: iam_words_root + sub_directory, os.listdir(iam_words_root))))\n",
    "\n",
    "# Loop over each subdirectory\n",
    "for sub_directory in sub_directories:\n",
    "    forms = sorted(list( map( lambda form: sub_directory + '/' + form, os.listdir(sub_directory) ) ))\n",
    "    # Loop over each form subdirectory\n",
    "    for form in forms:\n",
    "        # Append file paths\n",
    "        files = sorted(list( map( lambda file: form + '/' + file, os.listdir(form) ) ))        \n",
    "        images_path = np.append(images_path, files)\n",
    "\n",
    " \n",
    "\n",
    "# Read label file and remove first 18 lines because they are useless\n",
    "label_file = open('./data/IAM-Handwritten-Database/words.txt').readlines()[18:]\n",
    "\n",
    "# For each line, take only what's after 8 spaces\n",
    "# If the word itself contains spaces we join into one string\n",
    "labels = list(\n",
    "    map(\n",
    "        lambda line: ' '.join(line.split()[8:]),\n",
    "        label_file\n",
    "    )\n",
    ")\n",
    "\n",
    "\n",
    "images_path = images_path.tolist()\n"
   ]
  },
  {
   "attachments": {},
   "cell_type": "markdown",
   "metadata": {},
   "source": [
    "## Data preprocessing\n",
    "\n",
    "#### Create various utility variables as well as training and validation sets"
   ]
  },
  {
   "cell_type": "code",
   "execution_count": 1,
   "metadata": {},
   "outputs": [
    {
     "ename": "NameError",
     "evalue": "name 'labels' is not defined",
     "output_type": "error",
     "traceback": [
      "\u001b[0;31m---------------------------------------------------------------------------\u001b[0m",
      "\u001b[0;31mNameError\u001b[0m                                 Traceback (most recent call last)",
      "\u001b[0;32m/tmp/ipykernel_8599/1478673416.py\u001b[0m in \u001b[0;36m<module>\u001b[0;34m\u001b[0m\n\u001b[1;32m      1\u001b[0m \u001b[0;31m# Get all the characters in all labels, remove duplicate values with set() and sort values with sorted()\u001b[0m\u001b[0;34m\u001b[0m\u001b[0;34m\u001b[0m\u001b[0m\n\u001b[0;32m----> 2\u001b[0;31m \u001b[0mcharacters\u001b[0m \u001b[0;34m=\u001b[0m \u001b[0msorted\u001b[0m\u001b[0;34m(\u001b[0m\u001b[0mlist\u001b[0m\u001b[0;34m(\u001b[0m\u001b[0mset\u001b[0m\u001b[0;34m(\u001b[0m\u001b[0mchar\u001b[0m \u001b[0;32mfor\u001b[0m \u001b[0mlabel\u001b[0m \u001b[0;32min\u001b[0m \u001b[0mlabels\u001b[0m \u001b[0;32mfor\u001b[0m \u001b[0mchar\u001b[0m \u001b[0;32min\u001b[0m \u001b[0mlabel\u001b[0m\u001b[0;34m)\u001b[0m\u001b[0;34m)\u001b[0m\u001b[0;34m)\u001b[0m\u001b[0;34m\u001b[0m\u001b[0;34m\u001b[0m\u001b[0m\n\u001b[0m\u001b[1;32m      3\u001b[0m \u001b[0mprint\u001b[0m\u001b[0;34m(\u001b[0m\u001b[0mcharacters\u001b[0m\u001b[0;34m)\u001b[0m\u001b[0;34m\u001b[0m\u001b[0;34m\u001b[0m\u001b[0m\n\u001b[1;32m      4\u001b[0m \u001b[0;31m# Batch size for training and validation\u001b[0m\u001b[0;34m\u001b[0m\u001b[0;34m\u001b[0m\u001b[0m\n\u001b[1;32m      5\u001b[0m \u001b[0mbatch_size\u001b[0m \u001b[0;34m=\u001b[0m \u001b[0;36m32\u001b[0m\u001b[0;34m\u001b[0m\u001b[0;34m\u001b[0m\u001b[0m\n",
      "\u001b[0;31mNameError\u001b[0m: name 'labels' is not defined"
     ]
    }
   ],
   "source": [
    "\n",
    "# Get all the characters in all labels, remove duplicate values with set() and sort values with sorted()\n",
    "characters = sorted(list(set(char for label in labels for char in label)))\n",
    "print(characters)\n",
    "# Batch size for training and validation\n",
    "batch_size = 32\n",
    "\n",
    "# Desiered image dimensions\n",
    "image_width = 200\n",
    "image_height = 50\n",
    "\n",
    "# Factor by which the image is going to be downsampled\n",
    "# by the convolutional blocks. We will be using two\n",
    "# convolution blocks and each block will have\n",
    "# a pooling layer which downsample the features by a factor of 2.\n",
    "# Hence total downsampling factor would be 4.\n",
    "downsample_factor = 4\n",
    "\n",
    "# Maximum length of any label\n",
    "max_length = max([len(label) for label in labels])\n",
    "\n",
    "# Mapping characters to integer\n",
    "char_to_num = layers.StringLookup(vocabulary=list(characters), mask_token=None)\n",
    "# Mapping characters integer back to original characters\n",
    "num_to_char = layers.StringLookup(vocabulary=char_to_num.get_vocabulary(), mask_token=None, invert=True)\n",
    "\n",
    "# Define max authorized length for input\n",
    "max_authorized_length = 50\n",
    "\n",
    "# Remove labels and images when labels is sup to given length\n",
    "indices_to_remove = []\n",
    "for i in range(len(labels)):\n",
    "    if i >= len(labels): break;\n",
    "    if len(labels[i]) > max_authorized_length or os.stat(images_path[i]).st_size <= 0:\n",
    "        del images_path[i]\n",
    "        del labels[i]\n",
    "        i = i-1\n",
    "\n",
    "\n",
    "\n",
    "# Function to split the dataset between training and validation set and add possibility to shuffle data\n",
    "def split_data(images_path, labels, train_size=0.9, shuffle=True):\n",
    "    # Get the total size of the dataset\n",
    "    dataset_size = len(images_path)\n",
    "    # Create an indices array and shuffle it if required\n",
    "    indices = np.arange(dataset_size)\n",
    "    if shuffle: np.random.shuffle(indices)\n",
    "    # Get the size of the training sample by multiplying by the train size\n",
    "    train_samples_size = int(dataset_size * train_size)\n",
    "    # Finally, split data into training and validation sets\n",
    "    x_train, y_train = images_path[indices[:train_samples_size]], labels[indices[:train_samples_size]]\n",
    "    x_valid, y_valid = images_path[indices[train_samples_size:]], labels[indices[train_samples_size:]]\n",
    "    return x_train, x_valid, y_train, y_valid\n",
    "\n",
    "\n",
    "# Get max length in labels\n",
    "max_length = max([len(label) for label in labels])\n",
    "\n",
    "# Add zero at the end of each label until it reaches max_length\n",
    "labels = [label + \"0\" * (max_length - len(label)) for label in labels]\n",
    "\n",
    "# # Create training and validation sets\n",
    "x_train, x_valid, y_train, y_valid = split_data(np.array(images_path), np.array(labels))\n",
    "\n"
   ]
  },
  {
   "cell_type": "code",
   "execution_count": null,
   "metadata": {},
   "outputs": [],
   "source": []
  },
  {
   "attachments": {},
   "cell_type": "markdown",
   "metadata": {},
   "source": [
    "#### Create datasets objects"
   ]
  },
  {
   "cell_type": "code",
   "execution_count": null,
   "metadata": {},
   "outputs": [],
   "source": [
    "# Function to encode a single sample into the following form : {\"image\": image_array, \"label\": label}\n",
    "# This function will be used later on right after the dataset object creation\n",
    "def encode_single_sample(image_path, label):\n",
    "    # Read the image with tensorflow\n",
    "    image = tf.io.read_file(image_path)\n",
    "    # Decode and convert to gray scale (whith channel = 1), we don't need colors to get the label of an image\n",
    "    image = tf.io.decode_png(image, channels=1)\n",
    "    # Convert image array into float32 in range [0, 1]\n",
    "    image = tf.image.convert_image_dtype(image, tf.float32)\n",
    "    # Resize image to the desired size\n",
    "    image = tf.image.resize(image, [image_height, image_width])\n",
    "    # Transpose the image data array because we want the third dimension to corresponde to the width\n",
    "    image = tf.transpose(image, perm=[1, 0, 2])\n",
    "    # Map the label characters to numbers\n",
    "    label = char_to_num(tf.strings.unicode_split(label, input_encoding=\"UTF-8\"))\n",
    "    # Return the corresponding dictionary\n",
    "    return {\"image\": image, \"label\": label}\n",
    "\n",
    "# Create training and validation datasets\n",
    "# We map ver the newly created dataset and apply our function encode_single_sample\n",
    "# batch() divides dataset into several batches of desired size\n",
    "# prefect() prefetch data in memory and allow a quicker access to it\n",
    "# tf.data.AUTOTUNE lets tensorflow decides the best tunning algorithm or value for the function it is called upon\n",
    "\n",
    "train_dataset = tf.data.Dataset.from_tensor_slices(\n",
    "    (x_train, y_train)\n",
    ").map(\n",
    "    encode_single_sample,\n",
    "    num_parallel_calls=tf.data.AUTOTUNE\n",
    ").batch(batch_size).prefetch(buffer_size=tf.data.AUTOTUNE)\n",
    "\n",
    "validation_dataset = tf.data.Dataset.from_tensor_slices(\n",
    "    (x_valid, y_valid)\n",
    ").map(\n",
    "    encode_single_sample,\n",
    "    num_parallel_calls=tf.data.AUTOTUNE\n",
    ").batch(batch_size).prefetch(buffer_size=tf.data.AUTOTUNE)\n",
    "\n"
   ]
  },
  {
   "cell_type": "code",
   "execution_count": 5,
   "metadata": {},
   "outputs": [
    {
     "name": "stdout",
     "output_type": "stream",
     "text": [
      "Model: \"ocr_model_v1\"\n",
      "__________________________________________________________________________________________________\n",
      " Layer (type)                   Output Shape         Param #     Connected to                     \n",
      "==================================================================================================\n",
      " image (InputLayer)             [(None, 200, 50, 1)  0           []                               \n",
      "                                ]                                                                 \n",
      "                                                                                                  \n",
      " Conv1 (Conv2D)                 (None, 200, 50, 32)  320         ['image[0][0]']                  \n",
      "                                                                                                  \n",
      " pool1 (MaxPooling2D)           (None, 100, 25, 32)  0           ['Conv1[0][0]']                  \n",
      "                                                                                                  \n",
      " Conv2 (Conv2D)                 (None, 100, 25, 64)  18496       ['pool1[0][0]']                  \n",
      "                                                                                                  \n",
      " pool2 (MaxPooling2D)           (None, 50, 12, 64)   0           ['Conv2[0][0]']                  \n",
      "                                                                                                  \n",
      " reshape (Reshape)              (None, 50, 768)      0           ['pool2[0][0]']                  \n",
      "                                                                                                  \n",
      " dense1 (Dense)                 (None, 50, 64)       49216       ['reshape[0][0]']                \n",
      "                                                                                                  \n",
      " dropout (Dropout)              (None, 50, 64)       0           ['dense1[0][0]']                 \n",
      "                                                                                                  \n",
      " bidirectional (Bidirectional)  (None, 50, 256)      197632      ['dropout[0][0]']                \n",
      "                                                                                                  \n",
      " bidirectional_1 (Bidirectional  (None, 50, 128)     164352      ['bidirectional[0][0]']          \n",
      " )                                                                                                \n",
      "                                                                                                  \n",
      " label (InputLayer)             [(None, None)]       0           []                               \n",
      "                                                                                                  \n",
      " dense2 (Dense)                 (None, 50, 81)       10449       ['bidirectional_1[0][0]']        \n",
      "                                                                                                  \n",
      " ctc_loss (CTCLayer)            (None, 50, 81)       0           ['label[0][0]',                  \n",
      "                                                                  'dense2[0][0]']                 \n",
      "                                                                                                  \n",
      "==================================================================================================\n",
      "Total params: 440,465\n",
      "Trainable params: 440,465\n",
      "Non-trainable params: 0\n",
      "__________________________________________________________________________________________________\n"
     ]
    }
   ],
   "source": [
    "\n",
    "# CTC = Connectionist Temporal Classification, méthode connectable dans des réseaux de neurones\n",
    "# permettant entre autre d'identifier des séquences de données temporelles\n",
    "\n",
    "# The CTC alorithms assign a probability for any Y given an X. Its goal is to allign the input and the output.\n",
    "# For example in an OCR, it will assign each output a propability for a given handwritten chatacter\n",
    "\n",
    "# Convolutional block :\n",
    "#    - Convolutional Layer : aid in dedetecing patterns in our image\n",
    "#    - Pooling layers : \n",
    "#           The problem with the convolutional layers is that they record the precise position\n",
    "#           of features in the input. This leans that small movements in the position of the feature in\n",
    "#           input image will result in a different feature map. Thic can happen with re-cropping, rotation,\n",
    "#           shiffting of the input image.\n",
    "#           To overcome this problem, a common approach is down sampling the input. A lower resolution is apply\n",
    "#           but it still contains the large or important structural elements, witout the fine details that may not\n",
    "#           be useful to the task. It is done by using a pooling layer.\n",
    "#           Pooling involves selecting a pooling operation. It is like applying a filter to each feature map to make it\n",
    "#           smaller. For exammple; if it reduces the feature map by a factor of 2, each dimension is halved, this means\n",
    "#           that the feature map will have the quarter of it's original size. 6*6 (36 pixels) => 3*3 (9 pixels).\n",
    "#           The pooling operation is specified, rather than learned, thow common pooling functions are :\n",
    "#               - Average pooling : Calculate the average value for each patch on the feature map\n",
    "#               - Maximum pooling : Calculate the maximum value for each path on the feature map\n",
    "#           The result is a summarized version of the features detected in the input. They are useful because small changes\n",
    "#           in the input will produce the same feature map. Thid capability added by pooling is called \"the model's invariance\n",
    "#           to local translation\".\n",
    "#           pooling helps to make the representaion become approximately invariant to small translations of the input. If we translate\n",
    "#           the input by a small amount, the values of most of the pooled outputs do not change.\n",
    "#   - Dropout layer :\n",
    "#       Neural networks tends to memorize the input data instead of learning procedures and working. We can use a dropout layer to reduce this\n",
    "#       this effect. The dropout layers randomly discard sme of the input data that passes trhough it. To summarize, we discard data to obtain a \n",
    "#       more accurate end results.\n",
    "\n",
    "# Define CTCLayer class :\n",
    "\n",
    "class CTCLayer(layers.Layer):\n",
    "    def __init__(self, name=None) -> None:\n",
    "        super().__init__(name=name)\n",
    "        self.loss_fn = keras.backend.ctc_batch_cost #we use the batch_cost loss function\n",
    "    \n",
    "    def call(self, y_true, y_pred):\n",
    "        # Compute the training-time loss vaue and add it\n",
    "        # to the layer using `self.add_loss()`\n",
    "        # tf.shape() = get the shape of the tensor (tensor = one or multi dimensional array e.g. a bit like numpy arrays). Returns also a tensor\n",
    "        # tf.cast() = cast the given tensor into specified dtype\n",
    "        # tf.ones () = create a tensor of the given shape fullfilled with ones (1) : ex : [[1, 1, 1], [1, 1, 1]]\n",
    "        batch_len = tf.cast(tf.shape(y_true)[0], dtype=\"int64\")\n",
    "        input_length = tf.cast(tf.shape(y_pred)[1], dtype=\"int64\")\n",
    "        label_length = tf.cast(tf.shape(y_true)[1], dtype=\"int64\")\n",
    "\n",
    "        input_length = input_length * tf.ones(shape=(batch_len, 1), dtype=\"int64\")\n",
    "        label_length = label_length * tf.ones(shape=(batch_len, 1), dtype=\"int64\")\n",
    "\n",
    "        loss = self.loss_fn(y_true, y_pred, input_length, label_length)\n",
    "        self.add_loss(loss)\n",
    "\n",
    "        # At test time, just return the computed predictions\n",
    "        return y_pred\n",
    "\n",
    "def build_model():\n",
    "    # Inputs to the model\n",
    "    input_img = layers.Input(shape=(image_width, image_height, 1), name=\"image\", dtype=\"float32\")\n",
    "    labels = layers.Input(shape=(None, ), name=\"label\", dtype=\"float32\")\n",
    "\n",
    "    #First conv block\n",
    "    # layers.Convo2D() creates a 2D convolution layer (e.g. spatial convolution over images)\n",
    "    x = layers.Conv2D(\n",
    "        32,\n",
    "        (3, 3),\n",
    "        activation=\"relu\",\n",
    "        kernel_initializer=\"he_normal\",\n",
    "        padding=\"same\",\n",
    "        name=\"Conv1\"\n",
    "    )(input_img)\n",
    "    x = layers.MaxPooling2D((2, 2), name=\"pool1\")(x)\n",
    "\n",
    "    # Second conv block\n",
    "    x = layers.Conv2D(\n",
    "        64,\n",
    "        (3, 3),\n",
    "        activation=\"relu\",\n",
    "        kernel_initializer=\"he_normal\",\n",
    "        padding=\"same\",\n",
    "        name=\"Conv2\"\n",
    "    )(x)\n",
    "    x = layers.MaxPooling2D((2, 2), name=\"pool2\")(x)\n",
    "\n",
    "    # We have used two max pool with pool size and strides 2.\n",
    "    # Hence, downsampled feature maps are 4x smaller. The number of\n",
    "    # filters in the last layer is 64. Reshape accordingly before\n",
    "    # passing the output to the RNN part of the model\n",
    "    new_shape = ((image_width // 4), (image_height // 4) * 64)\n",
    "    x = layers.Reshape(target_shape=new_shape, name=\"reshape\")(x)\n",
    "    x = layers.Dense(64, activation=\"relu\", name=\"dense1\")(x)\n",
    "    x = layers.Dropout(0.2)(x)\n",
    "\n",
    "    # RNNs\n",
    "    # RNN = Recurent Neural Network\n",
    "    # This is a type if algorithm that remember its input, due t an internal memory, which make it well suited for machine learning\n",
    "    # problems that involve sequential data. With sequential or time series data, feedforwars networks cannot be used for learning and\n",
    "    # prediction. A mechanism (RNN for example) is required to retain past or historical information to forecast future values.\n",
    "    # Recurent Neural Network (RNN) are a variant of the conventional feedforward artificial neural networks that can dead with\n",
    "    # sequential data and can be trained to hold knowledge about the past.\n",
    "    \n",
    "    # LSTM (Long Short Term Memory) = modified version of recurrent neural networks, which make it easier to remember past data in memory.\n",
    "    # LSTM is well suited to classify, process and predict time series given time lags of unknown duration.\n",
    "    x = layers.Bidirectional(layers.LSTM(128, return_sequences=True, dropout=0.25))(x)\n",
    "    x = layers.Bidirectional(layers.LSTM(64, return_sequences=True, dropout=0.25))(x)\n",
    "    \n",
    "    # Outpout layer\n",
    "    x = layers.Dense(len(char_to_num.get_vocabulary()) + 1, activation=\"softmax\", name=\"dense2\")(x)\n",
    "\n",
    "    # Add CTC layer for calculating CTC loss at eacgh step\n",
    "    output = CTCLayer(name=\"ctc_loss\")(labels, x)\n",
    "\n",
    "    # Define the model\n",
    "    model = keras.models.Model(inputs=[input_img, labels], outputs=output, name=\"ocr_model_v1\")\n",
    "\n",
    "    # Optimizer\n",
    "    # Optimizers are algorithms used to update tje âraùeters of a neural networks such as weights and learning rate to reduce the losses.\n",
    "    # Optimizers are used to solve optimizatio problems by minimizing the cost function.\n",
    "    opt = keras.optimizers.Adam()\n",
    "\n",
    "    # Compile the model\n",
    "    model.compile(optimizer=opt)\n",
    "\n",
    "    # Return the model\n",
    "    return model\n",
    "\n",
    "# Get the model\n",
    "model = build_model()\n",
    "model.summary()"
   ]
  },
  {
   "cell_type": "code",
   "execution_count": 6,
   "metadata": {},
   "outputs": [
    {
     "name": "stdout",
     "output_type": "stream",
     "text": [
      "3244/3244 [==============================] - 192s 57ms/step - loss: 15.6630 - val_loss: 13.2347\n"
     ]
    }
   ],
   "source": [
    "epochs = 1\n",
    "# Early stopping is a method that allows you to specify an arbitrarily large number of training epocs\n",
    "# #and stop training once the model performance stop improving on the validation dataset\n",
    "early_stopping_patience = 10\n",
    "# Add early stopping\n",
    "early_stopping = keras.callbacks.EarlyStopping(monitor=\"val_loss\", patience=early_stopping_patience, restore_best_weights=True)\n",
    "\n",
    "# Train the model\n",
    "history = model.fit(\n",
    "    train_dataset,\n",
    "    validation_data=validation_dataset,\n",
    "    epochs=epochs,\n",
    "    callbacks=[early_stopping]\n",
    ")"
   ]
  },
  {
   "attachments": {},
   "cell_type": "markdown",
   "metadata": {},
   "source": [
    "## Save the model"
   ]
  },
  {
   "cell_type": "code",
   "execution_count": 7,
   "metadata": {},
   "outputs": [
    {
     "name": "stderr",
     "output_type": "stream",
     "text": [
      "WARNING:absl:Found untraced functions such as _jit_compiled_convolution_op, _jit_compiled_convolution_op, lstm_cell_1_layer_call_fn, lstm_cell_1_layer_call_and_return_conditional_losses, lstm_cell_2_layer_call_fn while saving (showing 5 of 10). These functions will not be directly callable after loading.\n"
     ]
    },
    {
     "name": "stdout",
     "output_type": "stream",
     "text": [
      "INFO:tensorflow:Assets written to: ./CNN-OCR-MODEL-SAVE/assets\n"
     ]
    },
    {
     "name": "stderr",
     "output_type": "stream",
     "text": [
      "INFO:tensorflow:Assets written to: ./CNN-OCR-MODEL-SAVE/assets\n"
     ]
    }
   ],
   "source": [
    "model.save('./CNN-OCR-MODEL-SAVE/')\n"
   ]
  },
  {
   "attachments": {},
   "cell_type": "markdown",
   "metadata": {},
   "source": [
    "## Load model"
   ]
  },
  {
   "cell_type": "code",
   "execution_count": null,
   "metadata": {},
   "outputs": [],
   "source": [
    "model = tf.keras.models.load_model('./CNN-OCR-MODEL-SAVE/')"
   ]
  }
 ],
 "metadata": {
  "kernelspec": {
   "display_name": "base",
   "language": "python",
   "name": "python3"
  },
  "language_info": {
   "codemirror_mode": {
    "name": "ipython",
    "version": 3
   },
   "file_extension": ".py",
   "mimetype": "text/x-python",
   "name": "python",
   "nbconvert_exporter": "python",
   "pygments_lexer": "ipython3",
   "version": "3.9.13"
  },
  "orig_nbformat": 4
 },
 "nbformat": 4,
 "nbformat_minor": 2
}
